{
 "cells": [
  {
   "cell_type": "code",
   "execution_count": 2,
   "metadata": {},
   "outputs": [
    {
     "name": "stdout",
     "output_type": "stream",
     "text": [
      "Election Results\n",
      "--------------------------\n",
      "Total Votes: 3521001\n",
      "--------------------------\n",
      "Khan : 63.0% (2218231)\n",
      "Correy : 20.0% (704200)\n",
      "Li : 14.0% (492940)\n",
      "O'Tooley : 3.0% (105630)\n",
      "--------------------------\n",
      "Winner: Khan\n"
     ]
    }
   ],
   "source": [
    "# Modules  os operating system\n",
    "import collections\n",
    "from collections import defaultdict\n",
    "import os\n",
    "import csv\n",
    "\n",
    "\n",
    "\n",
    "candidate_count = []\n",
    "total_votes = 0\n",
    "candidate_cue = []\n",
    "\n",
    "\n",
    "# Set path for file\n",
    "csvpath = os.path.join( \"election_data.csv\")\n",
    "\n",
    "# Open the CSV\n",
    "with open(csvpath, newline=\"\") as csvfile:\n",
    "    csvreader = csv.reader(csvfile, delimiter=\",\")\n",
    "   \n",
    " # Pull Names and Counts\n",
    "    next(csvreader, None)\n",
    "    for row in csvreader:\n",
    "        # Total all Votes\n",
    "        total_votes += 1\n",
    "        # Extract candidate name from each row\n",
    "        candidate_name = (row[2])\n",
    "        \n",
    "        # Build list of individual candidate names/count\n",
    "        if candidate_name in candidate_cue:\n",
    "            #Identify last index value for each name as it loops through\n",
    "            candidate_index = candidate_cue.index(candidate_name)\n",
    "            #Add 1 to index for new name for the count\n",
    "            candidate_count[candidate_index] = candidate_count[candidate_index] + 1\n",
    "        else:\n",
    "            \n",
    "            candidate_cue.append(candidate_name)\n",
    "            candidate_count.append(1)\n",
    "\n",
    "percent = []\n",
    "max_votes = candidate_count[0]\n",
    "max_index = 0\n",
    "\n",
    "for x in range(len(candidate_cue)): #X is the iteration for the name being processed through\n",
    "    \n",
    "    vote_percent = round(candidate_count[x]/total_votes*100, 2)\n",
    "    percent.append(vote_percent)\n",
    "    \n",
    "    if candidate_count[x] > max_votes:\n",
    "        max_votes = candidate_count[x]\n",
    "        max_index = x\n",
    "\n",
    "election_winner = candidate_cue[max_index] \n",
    "\n",
    "print('Election Results')\n",
    "print('--------------------------')\n",
    "print(f'Total Votes: {total_votes}')\n",
    "print('--------------------------')\n",
    "for x in range(len(candidate_cue)):\n",
    "    print(f'{candidate_cue[x]} : {percent[x]}% ({candidate_count[x]})')\n",
    "print('--------------------------')\n",
    "print(f'Winner: {election_winner}')\n",
    "\n",
    "output_file = os.path.join(\"pypoll_results.txt\")\n",
    "with open(output_file, \"w\", newline=\"\") as datafile:\n",
    "    datafile.write('Election Results\\n')\n",
    "    datafile.write('--------------------------\\n')\n",
    "    datafile.write(f'Total Votes: {total_votes}\\n')\n",
    "    datafile.write('--------------------------\\n')\n",
    "    for x in range(len(candidate_cue)):\n",
    "        datafile.write(f'{candidate_cue[x]} : {percent[x]}% ({candidate_count[x]})\\n')\n",
    "    datafile.write('--------------------------')\n"
   ]
  },
  {
   "cell_type": "code",
   "execution_count": null,
   "metadata": {},
   "outputs": [],
   "source": []
  }
 ],
 "metadata": {
  "kernelspec": {
   "display_name": "Python 3",
   "language": "python",
   "name": "python3"
  },
  "language_info": {
   "codemirror_mode": {
    "name": "ipython",
    "version": 3
   },
   "file_extension": ".py",
   "mimetype": "text/x-python",
   "name": "python",
   "nbconvert_exporter": "python",
   "pygments_lexer": "ipython3",
   "version": "3.7.3"
  }
 },
 "nbformat": 4,
 "nbformat_minor": 4
}
