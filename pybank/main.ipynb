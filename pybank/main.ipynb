{
 "cells": [
  {
   "cell_type": "code",
   "execution_count": 5,
   "metadata": {},
   "outputs": [
    {
     "name": "stdout",
     "output_type": "stream",
     "text": [
      "Financial Analysis\n",
      "-----------------------------------\n",
      "Total Months:  86\n",
      "Total: $ 38382578\n",
      "Average Change: $ -2315.12\n",
      "Greatest Increase in Profits: Jan-2012  $ 1926159\n",
      "Greatest Decrease in Profits: Aug-2013  $ -2196167\n"
     ]
    }
   ],
   "source": [
    "# Modules  os operating system\n",
    "import os\n",
    "import csv\n",
    "\n",
    "\n",
    "date = []\n",
    "profit = []\n",
    "profit_change = []\n",
    "total = 0\n",
    "date_count = 0\n",
    "\n",
    "# Set path for file\n",
    "csvpath = os.path.join( \"budget_data.csv\")\n",
    "\n",
    "# Open the CSV\n",
    "with open(csvpath, newline=\"\") as csvfile:\n",
    "    csvreader = csv.reader(csvfile, delimiter=\",\")\n",
    "   \n",
    "    next(csvreader, None)\n",
    "    for row in csvreader:\n",
    "            date.append(row[0])\n",
    "            profit.append(int(row[1]))\n",
    "\n",
    "            \n",
    "total = sum(profit) \n",
    "date_count = len(date)\n",
    "\n",
    "for i in range(1,len(profit)):\n",
    "        profit_change.append(profit[i] - profit[i-1]) \n",
    "        \n",
    "        avg_profit_change = sum(profit_change)/len(profit_change)\n",
    "        max_profit_change = max(profit_change)\n",
    "        min_profit_change = min(profit_change)\n",
    "        \n",
    "        max_profit_change_date = str(date[profit_change.index(max(profit_change))])\n",
    "        min_profit_change_date = str(date[profit_change.index(min(profit_change))])\n",
    "        \n",
    "        \n",
    "print(\"Financial Analysis\")\n",
    "print(\"-----------------------------------\")\n",
    "print(\"Total Months: \", date_count)\n",
    "print(\"Total: $\", total)\n",
    "print(\"Average Change: $\", \"%.2f\" % round(avg_profit_change,2))\n",
    "print(\"Greatest Increase in Profits:\",max_profit_change_date,\" $\",max_profit_change)\n",
    "print(\"Greatest Decrease in Profits:\",min_profit_change_date,\" $\",min_profit_change)\n",
    "\n",
    "output_file = os.path.join(\"pybank_results.txt\")\n",
    "with open(output_file, \"w\", newline=\"\") as datafile:\n",
    "    datafile.write(\"Financial Analysis\\n\")\n",
    "    datafile.write (\"-----------------------------------\\n\")\n",
    "    datafile.write (f'Total Months: {date_count}\\n')\n",
    "    datafile.write (f'Total: ${total}\\n')\n",
    "    datafile.write (f'Average Change: {round(avg_profit_change,2)}\\n')\n",
    "    datafile.write(f'Greatest Increase in Profits: {max_profit_change_date}, ${max_profit_change}\\n')\n",
    "    datafile.write(f'Greatest Decrease in Profits: {min_profit_change_date}, ${min_profit_change}\\n')\n",
    "    \n",
    "    \n",
    "    \n",
    "    \n",
    "    \n",
    "\n",
    "\n",
    "\n",
    "\n",
    "            \n",
    "           \n",
    "    \n",
    "    \n",
    "    \n"
   ]
  },
  {
   "cell_type": "code",
   "execution_count": null,
   "metadata": {},
   "outputs": [],
   "source": []
  },
  {
   "cell_type": "code",
   "execution_count": null,
   "metadata": {},
   "outputs": [],
   "source": []
  }
 ],
 "metadata": {
  "kernelspec": {
   "display_name": "Python 3",
   "language": "python",
   "name": "python3"
  },
  "language_info": {
   "codemirror_mode": {
    "name": "ipython",
    "version": 3
   },
   "file_extension": ".py",
   "mimetype": "text/x-python",
   "name": "python",
   "nbconvert_exporter": "python",
   "pygments_lexer": "ipython3",
   "version": "3.7.3"
  }
 },
 "nbformat": 4,
 "nbformat_minor": 4
}
